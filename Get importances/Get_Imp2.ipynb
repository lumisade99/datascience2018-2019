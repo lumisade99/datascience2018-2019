{
  "cells": [
    {
      "metadata": {
        "trusted": true
      },
      "cell_type": "code",
      "source": "import pandas as pd\nimport numpy as np\nfrom matplotlib import pyplot as plt\nfrom sklearn.model_selection import train_test_split\nfrom sklearn.ensemble import RandomForestRegressor\nimport math",
      "execution_count": 1,
      "outputs": [
        {
          "output_type": "stream",
          "text": "/home/nbuser/anaconda3_420/lib/python3.5/site-packages/matplotlib/font_manager.py:281: UserWarning: Matplotlib is building the font cache using fc-list. This may take a moment.\n  'Matplotlib is building the font cache using fc-list. '\n/home/nbuser/anaconda3_420/lib/python3.5/site-packages/sklearn/ensemble/weight_boosting.py:29: DeprecationWarning: numpy.core.umath_tests is an internal NumPy module and should not be imported. It will be removed in a future NumPy release.\n  from numpy.core.umath_tests import inner1d\n",
          "name": "stderr"
        }
      ]
    },
    {
      "metadata": {
        "trusted": true
      },
      "cell_type": "code",
      "source": "train = pd.read_csv('Music.csv')",
      "execution_count": 2,
      "outputs": []
    },
    {
      "metadata": {
        "trusted": true
      },
      "cell_type": "code",
      "source": "def rmse(x, y): return math.sqrt(((x-y)**2).mean()) # выбранная мной метрика",
      "execution_count": 3,
      "outputs": []
    },
    {
      "metadata": {},
      "cell_type": "markdown",
      "source": "# Важности признаков, определяемые лесом из sklearn"
    },
    {
      "metadata": {
        "trusted": true
      },
      "cell_type": "code",
      "source": "X = train.drop('Rating', 1)\ny= train.Rating\nX_train, X_test, y_train, y_test = train_test_split(X, y, test_size=0.5, random_state = 1234)\nforest = RandomForestRegressor(max_depth=5)\nforest.fit(X_train, y_train)\ny_predict = forest.predict(X_test)\nrmse(y_test, y_predict)",
      "execution_count": 144,
      "outputs": [
        {
          "output_type": "execute_result",
          "execution_count": 144,
          "data": {
            "text/plain": "21.651077492775677"
          },
          "metadata": {}
        }
      ]
    },
    {
      "metadata": {
        "trusted": true
      },
      "cell_type": "code",
      "source": "importances = pd.DataFrame({\n    'feature': X.columns,\n    'importance': np.round(forest.feature_importances_, 3)\n})\n\nimportances.sort_values(\"importance\", ascending=False)",
      "execution_count": 145,
      "outputs": [
        {
          "output_type": "execute_result",
          "execution_count": 145,
          "data": {
            "text/html": "<div>\n<table border=\"1\" class=\"dataframe\">\n  <thead>\n    <tr style=\"text-align: right;\">\n      <th></th>\n      <th>feature</th>\n      <th>importance</th>\n    </tr>\n  </thead>\n  <tbody>\n    <tr>\n      <th>1</th>\n      <td>Track</td>\n      <td>0.547</td>\n    </tr>\n    <tr>\n      <th>0</th>\n      <td>Artist</td>\n      <td>0.347</td>\n    </tr>\n    <tr>\n      <th>3</th>\n      <td>Time</td>\n      <td>0.067</td>\n    </tr>\n    <tr>\n      <th>2</th>\n      <td>User</td>\n      <td>0.039</td>\n    </tr>\n  </tbody>\n</table>\n</div>",
            "text/plain": "  feature  importance\n1   Track       0.547\n0  Artist       0.347\n3    Time       0.067\n2    User       0.039"
          },
          "metadata": {}
        }
      ]
    },
    {
      "metadata": {
        "trusted": true
      },
      "cell_type": "code",
      "source": "forest = RandomForestRegressor(max_depth=5) # модель, подаваемая функции",
      "execution_count": 146,
      "outputs": []
    },
    {
      "metadata": {},
      "cell_type": "markdown",
      "source": "# Построение функции"
    },
    {
      "metadata": {
        "trusted": true
      },
      "cell_type": "code",
      "source": "def get_importances(model, X, y, metric): # получение важности с шаффлом валидационной выборки\n    \n    X_train, X_test, y_train, y_test = train_test_split(X, y, test_size=0.5, random_state = 1234)\n    model.fit(X_train, y_train)\n    y_predict = model.predict(X_test)\n    orig_accur = metric(y_test, y_predict)\n    \n    X_test = X_test.reset_index(drop=True)\n    differences = {}\n    features = X.columns.values\n    for feat in features:\n        X_test2 = X_test.copy()\n        np.random.shuffle(X_test2[feat])\n        y_predict = model.predict(X_test2)\n        new_accur = metric(y_test, y_predict)\n        difference = math.fabs(orig_accur - new_accur)\n        differences.update({feat: difference})\n    \n    values = differences.values()\n    features = differences.keys()\n    summa = sum(values)\n    importances = []\n    for val in values:\n        importances.append(np.round(val/summa, 3))\n    \n    feat_imp = pd.DataFrame({\n    'feature': list(features),\n    'importance': importances\n    })\n    \n    return(feat_imp.sort_values(\"importance\", ascending=False))",
      "execution_count": 147,
      "outputs": []
    },
    {
      "metadata": {},
      "cell_type": "markdown",
      "source": "# Важности признков, определяемые построенной функцией"
    },
    {
      "metadata": {
        "trusted": true
      },
      "cell_type": "code",
      "source": "get_importances(forest, X, y, rmse)",
      "execution_count": 148,
      "outputs": [
        {
          "output_type": "execute_result",
          "execution_count": 148,
          "data": {
            "text/html": "<div>\n<table border=\"1\" class=\"dataframe\">\n  <thead>\n    <tr style=\"text-align: right;\">\n      <th></th>\n      <th>feature</th>\n      <th>importance</th>\n    </tr>\n  </thead>\n  <tbody>\n    <tr>\n      <th>0</th>\n      <td>Artist</td>\n      <td>0.481</td>\n    </tr>\n    <tr>\n      <th>2</th>\n      <td>Track</td>\n      <td>0.410</td>\n    </tr>\n    <tr>\n      <th>3</th>\n      <td>Time</td>\n      <td>0.061</td>\n    </tr>\n    <tr>\n      <th>1</th>\n      <td>User</td>\n      <td>0.048</td>\n    </tr>\n  </tbody>\n</table>\n</div>",
            "text/plain": "  feature  importance\n0  Artist       0.481\n2   Track       0.410\n3    Time       0.061\n1    User       0.048"
          },
          "metadata": {}
        }
      ]
    }
  ],
  "metadata": {
    "kernelspec": {
      "name": "python3",
      "display_name": "Python 3",
      "language": "python"
    },
    "language_info": {
      "mimetype": "text/x-python",
      "nbconvert_exporter": "python",
      "name": "python",
      "pygments_lexer": "ipython3",
      "version": "3.5.4",
      "file_extension": ".py",
      "codemirror_mode": {
        "version": 3,
        "name": "ipython"
      }
    }
  },
  "nbformat": 4,
  "nbformat_minor": 1
}